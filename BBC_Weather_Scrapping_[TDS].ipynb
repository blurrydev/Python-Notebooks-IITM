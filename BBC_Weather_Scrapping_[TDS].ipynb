{
  "cells": [
    {
      "cell_type": "markdown",
      "metadata": {
        "id": "view-in-github",
        "colab_type": "text"
      },
      "source": [
        "<a href=\"https://colab.research.google.com/github/blurrydev/Python-Notebooks-IITM/blob/main/BBC_Weather_Scrapping_%5BTDS%5D.ipynb\" target=\"_parent\"><img src=\"https://colab.research.google.com/assets/colab-badge.svg\" alt=\"Open In Colab\"/></a>"
      ]
    },
    {
      "cell_type": "code",
      "execution_count": null,
      "metadata": {
        "id": "JBog8LqnWE5l"
      },
      "outputs": [],
      "source": [
        "import os\n",
        "import requests\n",
        "import json\n",
        "\n",
        "from urllib.parse import urlencode\n",
        "\n",
        "import numpy as np\n",
        "import pandas as pd\n",
        "\n",
        "import re \n",
        "\n",
        "from bs4 import BeautifulSoup\n",
        "from datetime import datetime"
      ]
    },
    {
      "cell_type": "code",
      "execution_count": null,
      "metadata": {
        "id": "z-bS1nRCmomD"
      },
      "outputs": [],
      "source": [
        "def locid(test_city: str):\n",
        "  location_url = 'https://locator-service.api.bbci.co.uk/locations?' + urlencode({\n",
        "      'api_key': 'AGbFAKx58hyjQScCXIYrxuEwJh2W2cmv',\n",
        "      'stack': 'aws',\n",
        "      'locale': 'en',\n",
        "      'filter': 'international',\n",
        "      'place-types': 'settlement,ariport,district',\n",
        "      'order': 'importance',\n",
        "      's': test_city,\n",
        "      'a': 'true',\n",
        "      'format': 'json'\n",
        "  })\n",
        "  result = requests.get(location_url).json()\n",
        "  id = result['response']['results']['results'][0]['id']\n",
        "  return id"
      ]
    },
    {
      "cell_type": "code",
      "execution_count": null,
      "metadata": {
        "id": "U5oRCRTaDHCM",
        "colab": {
          "base_uri": "https://localhost:8080/",
          "height": 36
        },
        "outputId": "71a1d8b8-8f70-4fc9-d4e3-897fea7797c6"
      },
      "outputs": [
        {
          "output_type": "execute_result",
          "data": {
            "text/plain": [
              "'2950159'"
            ],
            "application/vnd.google.colaboratory.intrinsic+json": {
              "type": "string"
            }
          },
          "metadata": {},
          "execution_count": 62
        }
      ],
      "source": [
        "locid('berlin')"
      ]
    },
    {
      "cell_type": "code",
      "execution_count": null,
      "metadata": {
        "id": "2N_ScorhH7mL"
      },
      "outputs": [],
      "source": [
        "url = 'https://www.bbc.com/weather/'+locid('berlin')"
      ]
    },
    {
      "cell_type": "code",
      "source": [
        "url"
      ],
      "metadata": {
        "colab": {
          "base_uri": "https://localhost:8080/",
          "height": 36
        },
        "id": "MvJKrKK6ziDu",
        "outputId": "729db2bd-2b2d-4a1d-972c-0722d57008ed"
      },
      "execution_count": null,
      "outputs": [
        {
          "output_type": "execute_result",
          "data": {
            "text/plain": [
              "'https://www.bbc.com/weather/2950159'"
            ],
            "application/vnd.google.colaboratory.intrinsic+json": {
              "type": "string"
            }
          },
          "metadata": {},
          "execution_count": 64
        }
      ]
    },
    {
      "cell_type": "code",
      "source": [
        "response = requests.get(url)"
      ],
      "metadata": {
        "id": "lj8GgqGAzjHU"
      },
      "execution_count": null,
      "outputs": []
    },
    {
      "cell_type": "code",
      "source": [
        "content = response.content"
      ],
      "metadata": {
        "id": "XPSUbxwKz8ju"
      },
      "execution_count": null,
      "outputs": []
    },
    {
      "cell_type": "code",
      "source": [
        "soup = BeautifulSoup(content, 'lxml')"
      ],
      "metadata": {
        "id": "tAOIfMamzy9V"
      },
      "execution_count": null,
      "outputs": []
    },
    {
      "cell_type": "code",
      "source": [
        "soup"
      ],
      "metadata": {
        "id": "kkv4QYV8z3FG"
      },
      "execution_count": null,
      "outputs": []
    },
    {
      "cell_type": "code",
      "source": [
        "daily_high = soup.find_all('span', {'class': 'wr-day-temperature__high-value'})"
      ],
      "metadata": {
        "id": "-ylurocH2YOu"
      },
      "execution_count": null,
      "outputs": []
    },
    {
      "cell_type": "code",
      "source": [
        "daily_high"
      ],
      "metadata": {
        "colab": {
          "base_uri": "https://localhost:8080/"
        },
        "id": "VjJR_7qm3y9L",
        "outputId": "9f04672e-c71b-43d3-eda0-5dad389c6410"
      },
      "execution_count": null,
      "outputs": [
        {
          "output_type": "execute_result",
          "data": {
            "text/plain": [
              "[<span class=\"wr-day-temperature__high-value\"><span class=\"wr-value--temperature \"><span class=\"wr-value--temperature--c\">30°</span><span class=\"wr-hide\"> </span><span class=\"wr-value--temperature--f\">86°</span></span></span>,\n",
              " <span class=\"wr-day-temperature__high-value\"><span class=\"wr-value--temperature \"><span class=\"wr-value--temperature--c\">33°</span><span class=\"wr-hide\"> </span><span class=\"wr-value--temperature--f\">91°</span></span></span>,\n",
              " <span class=\"wr-day-temperature__high-value\"><span class=\"wr-value--temperature \"><span class=\"wr-value--temperature--c\">28°</span><span class=\"wr-hide\"> </span><span class=\"wr-value--temperature--f\">83°</span></span></span>,\n",
              " <span class=\"wr-day-temperature__high-value\"><span class=\"wr-value--temperature \"><span class=\"wr-value--temperature--c\">32°</span><span class=\"wr-hide\"> </span><span class=\"wr-value--temperature--f\">89°</span></span></span>,\n",
              " <span class=\"wr-day-temperature__high-value\"><span class=\"wr-value--temperature \"><span class=\"wr-value--temperature--c\">35°</span><span class=\"wr-hide\"> </span><span class=\"wr-value--temperature--f\">95°</span></span></span>,\n",
              " <span class=\"wr-day-temperature__high-value\"><span class=\"wr-value--temperature \"><span class=\"wr-value--temperature--c\">29°</span><span class=\"wr-hide\"> </span><span class=\"wr-value--temperature--f\">85°</span></span></span>,\n",
              " <span class=\"wr-day-temperature__high-value\"><span class=\"wr-value--temperature \"><span class=\"wr-value--temperature--c\">27°</span><span class=\"wr-hide\"> </span><span class=\"wr-value--temperature--f\">81°</span></span></span>,\n",
              " <span class=\"wr-day-temperature__high-value\"><span class=\"wr-value--temperature \"><span class=\"wr-value--temperature--c\">29°</span><span class=\"wr-hide\"> </span><span class=\"wr-value--temperature--f\">84°</span></span></span>,\n",
              " <span class=\"wr-day-temperature__high-value\"><span class=\"wr-value--temperature \"><span class=\"wr-value--temperature--c\">29°</span><span class=\"wr-hide\"> </span><span class=\"wr-value--temperature--f\">84°</span></span></span>,\n",
              " <span class=\"wr-day-temperature__high-value\"><span class=\"wr-value--temperature \"><span class=\"wr-value--temperature--c\">27°</span><span class=\"wr-hide\"> </span><span class=\"wr-value--temperature--f\">81°</span></span></span>,\n",
              " <span class=\"wr-day-temperature__high-value\"><span class=\"wr-value--temperature \"><span class=\"wr-value--temperature--c\">27°</span><span class=\"wr-hide\"> </span><span class=\"wr-value--temperature--f\">82°</span></span></span>,\n",
              " <span class=\"wr-day-temperature__high-value\"><span class=\"wr-value--temperature \"><span class=\"wr-value--temperature--c\">27°</span><span class=\"wr-hide\"> </span><span class=\"wr-value--temperature--f\">80°</span></span></span>,\n",
              " <span class=\"wr-day-temperature__high-value\"><span class=\"wr-value--temperature \"><span class=\"wr-value--temperature--c\">25°</span><span class=\"wr-hide\"> </span><span class=\"wr-value--temperature--f\">78°</span></span></span>,\n",
              " <span class=\"wr-day-temperature__high-value\"><span class=\"wr-value--temperature \"><span class=\"wr-value--temperature--c\">25°</span><span class=\"wr-hide\"> </span><span class=\"wr-value--temperature--f\">77°</span></span></span>]"
            ]
          },
          "metadata": {},
          "execution_count": 69
        }
      ]
    },
    {
      "cell_type": "code",
      "source": [
        "daily_low = soup.find_all('span', {'class': 'wr-day-temperature__low-value'})\n",
        "daily_low"
      ],
      "metadata": {
        "colab": {
          "base_uri": "https://localhost:8080/"
        },
        "id": "FTbBCSxI30Wf",
        "outputId": "bdd4d850-d463-43db-cef0-48e9a20fc7f7"
      },
      "execution_count": null,
      "outputs": [
        {
          "output_type": "execute_result",
          "data": {
            "text/plain": [
              "[<span class=\"wr-day-temperature__low-value\"><span class=\"wr-value--temperature \"><span class=\"wr-value--temperature--c\">18°</span><span class=\"wr-hide\"> </span><span class=\"wr-value--temperature--f\">64°</span></span></span>,\n",
              " <span class=\"wr-day-temperature__low-value\"><span class=\"wr-value--temperature \"><span class=\"wr-value--temperature--c\">20°</span><span class=\"wr-hide\"> </span><span class=\"wr-value--temperature--f\">67°</span></span></span>,\n",
              " <span class=\"wr-day-temperature__low-value\"><span class=\"wr-value--temperature \"><span class=\"wr-value--temperature--c\">18°</span><span class=\"wr-hide\"> </span><span class=\"wr-value--temperature--f\">65°</span></span></span>,\n",
              " <span class=\"wr-day-temperature__low-value\"><span class=\"wr-value--temperature \"><span class=\"wr-value--temperature--c\">20°</span><span class=\"wr-hide\"> </span><span class=\"wr-value--temperature--f\">68°</span></span></span>,\n",
              " <span class=\"wr-day-temperature__low-value\"><span class=\"wr-value--temperature \"><span class=\"wr-value--temperature--c\">21°</span><span class=\"wr-hide\"> </span><span class=\"wr-value--temperature--f\">71°</span></span></span>,\n",
              " <span class=\"wr-day-temperature__low-value\"><span class=\"wr-value--temperature \"><span class=\"wr-value--temperature--c\">18°</span><span class=\"wr-hide\"> </span><span class=\"wr-value--temperature--f\">65°</span></span></span>,\n",
              " <span class=\"wr-day-temperature__low-value\"><span class=\"wr-value--temperature \"><span class=\"wr-value--temperature--c\">17°</span><span class=\"wr-hide\"> </span><span class=\"wr-value--temperature--f\">62°</span></span></span>,\n",
              " <span class=\"wr-day-temperature__low-value\"><span class=\"wr-value--temperature \"><span class=\"wr-value--temperature--c\">19°</span><span class=\"wr-hide\"> </span><span class=\"wr-value--temperature--f\">67°</span></span></span>,\n",
              " <span class=\"wr-day-temperature__low-value\"><span class=\"wr-value--temperature \"><span class=\"wr-value--temperature--c\">19°</span><span class=\"wr-hide\"> </span><span class=\"wr-value--temperature--f\">65°</span></span></span>,\n",
              " <span class=\"wr-day-temperature__low-value\"><span class=\"wr-value--temperature \"><span class=\"wr-value--temperature--c\">18°</span><span class=\"wr-hide\"> </span><span class=\"wr-value--temperature--f\">64°</span></span></span>,\n",
              " <span class=\"wr-day-temperature__low-value\"><span class=\"wr-value--temperature \"><span class=\"wr-value--temperature--c\">17°</span><span class=\"wr-hide\"> </span><span class=\"wr-value--temperature--f\">62°</span></span></span>,\n",
              " <span class=\"wr-day-temperature__low-value\"><span class=\"wr-value--temperature \"><span class=\"wr-value--temperature--c\">16°</span><span class=\"wr-hide\"> </span><span class=\"wr-value--temperature--f\">62°</span></span></span>,\n",
              " <span class=\"wr-day-temperature__low-value\"><span class=\"wr-value--temperature \"><span class=\"wr-value--temperature--c\">15°</span><span class=\"wr-hide\"> </span><span class=\"wr-value--temperature--f\">60°</span></span></span>,\n",
              " <span class=\"wr-day-temperature__low-value\"><span class=\"wr-value--temperature \"><span class=\"wr-value--temperature--c\">16°</span><span class=\"wr-hide\"> </span><span class=\"wr-value--temperature--f\">60°</span></span></span>]"
            ]
          },
          "metadata": {},
          "execution_count": 70
        }
      ]
    },
    {
      "cell_type": "code",
      "source": [
        "daily_summary = soup.find('div', {'class': 'wr-day-summary'}).text\n",
        "daily_summary"
      ],
      "metadata": {
        "colab": {
          "base_uri": "https://localhost:8080/",
          "height": 122
        },
        "id": "RFKGhBu84B0c",
        "outputId": "deb4b1e4-19a7-4709-aebd-c9905a4dc8a0"
      },
      "execution_count": null,
      "outputs": [
        {
          "output_type": "execute_result",
          "data": {
            "text/plain": [
              "'Sunny and a gentle breezeSunny and a moderate breezeLight rain and light windsSunny and a gentle breezeSunny and a gentle breezeThundery showers and a gentle breezeThundery showers and a gentle breezeSunny intervals and a gentle breezeLight rain and a gentle breezeSunny intervals and a gentle breezeSunny intervals and a gentle breezeSunny intervals and a gentle breezeSunny intervals and a gentle breezeSunny intervals and a gentle breeze'"
            ],
            "application/vnd.google.colaboratory.intrinsic+json": {
              "type": "string"
            }
          },
          "metadata": {},
          "execution_count": 71
        }
      ]
    },
    {
      "cell_type": "code",
      "source": [
        "daily_high_values = []"
      ],
      "metadata": {
        "id": "icMlrsQ84wwz"
      },
      "execution_count": null,
      "outputs": []
    },
    {
      "cell_type": "code",
      "source": [
        "daily_high[0].text.split()[0]"
      ],
      "metadata": {
        "colab": {
          "base_uri": "https://localhost:8080/",
          "height": 36
        },
        "id": "TyYOAhu56TmV",
        "outputId": "a07d6f07-f380-40fc-ad2e-4e204e4f7bcb"
      },
      "execution_count": null,
      "outputs": [
        {
          "output_type": "execute_result",
          "data": {
            "text/plain": [
              "'30°'"
            ],
            "application/vnd.google.colaboratory.intrinsic+json": {
              "type": "string"
            }
          },
          "metadata": {},
          "execution_count": 73
        }
      ]
    },
    {
      "cell_type": "code",
      "source": [
        "daily_high_values = [daily_high[i].text.strip().split()[0] for i in range(len(daily_high))]"
      ],
      "metadata": {
        "id": "ezRU_9jA6cmq"
      },
      "execution_count": null,
      "outputs": []
    },
    {
      "cell_type": "code",
      "source": [
        "daily_high_values"
      ],
      "metadata": {
        "colab": {
          "base_uri": "https://localhost:8080/"
        },
        "id": "81DuB8uN-mSt",
        "outputId": "01410ec9-b74d-42ec-d2aa-8c9cbe92ab64"
      },
      "execution_count": null,
      "outputs": [
        {
          "output_type": "execute_result",
          "data": {
            "text/plain": [
              "['30°',\n",
              " '33°',\n",
              " '28°',\n",
              " '32°',\n",
              " '35°',\n",
              " '29°',\n",
              " '27°',\n",
              " '29°',\n",
              " '29°',\n",
              " '27°',\n",
              " '27°',\n",
              " '27°',\n",
              " '25°',\n",
              " '25°']"
            ]
          },
          "metadata": {},
          "execution_count": 75
        }
      ]
    },
    {
      "cell_type": "code",
      "source": [
        "daily_low_values = [daily_low[i].text.strip().split()[0] for i in range(len(daily_low))]"
      ],
      "metadata": {
        "id": "Bsk8s0Bo-rV3"
      },
      "execution_count": null,
      "outputs": []
    },
    {
      "cell_type": "code",
      "source": [
        "daily_low_values"
      ],
      "metadata": {
        "colab": {
          "base_uri": "https://localhost:8080/"
        },
        "id": "9RPien3Y_ZsO",
        "outputId": "2163fb74-3725-4569-b47f-706aac3824b6"
      },
      "execution_count": null,
      "outputs": [
        {
          "output_type": "execute_result",
          "data": {
            "text/plain": [
              "['18°',\n",
              " '20°',\n",
              " '18°',\n",
              " '20°',\n",
              " '21°',\n",
              " '18°',\n",
              " '17°',\n",
              " '19°',\n",
              " '19°',\n",
              " '18°',\n",
              " '17°',\n",
              " '16°',\n",
              " '15°',\n",
              " '16°']"
            ]
          },
          "metadata": {},
          "execution_count": 77
        }
      ]
    },
    {
      "cell_type": "code",
      "source": [
        "daily_summary_list = re.findall('[a-zA-Z][^A-Z]*', daily_summary) #split string on upper case"
      ],
      "metadata": {
        "id": "bm2bTLSY_a61"
      },
      "execution_count": null,
      "outputs": []
    },
    {
      "cell_type": "code",
      "source": [
        "daily_summary_list"
      ],
      "metadata": {
        "colab": {
          "base_uri": "https://localhost:8080/"
        },
        "id": "9El0UQZeFP9I",
        "outputId": "ab4ca540-7803-4ed8-ff3a-11ea8288499f"
      },
      "execution_count": null,
      "outputs": [
        {
          "output_type": "execute_result",
          "data": {
            "text/plain": [
              "['Sunny and a gentle breeze',\n",
              " 'Sunny and a moderate breeze',\n",
              " 'Light rain and light winds',\n",
              " 'Sunny and a gentle breeze',\n",
              " 'Sunny and a gentle breeze',\n",
              " 'Thundery showers and a gentle breeze',\n",
              " 'Thundery showers and a gentle breeze',\n",
              " 'Sunny intervals and a gentle breeze',\n",
              " 'Light rain and a gentle breeze',\n",
              " 'Sunny intervals and a gentle breeze',\n",
              " 'Sunny intervals and a gentle breeze',\n",
              " 'Sunny intervals and a gentle breeze',\n",
              " 'Sunny intervals and a gentle breeze',\n",
              " 'Sunny intervals and a gentle breeze']"
            ]
          },
          "metadata": {},
          "execution_count": 80
        }
      ]
    },
    {
      "cell_type": "code",
      "source": [
        "datelist = pd.date_range(datetime.today(), periods = len(daily_low_values)).to_list()"
      ],
      "metadata": {
        "id": "6v0gLJL0FU-5"
      },
      "execution_count": null,
      "outputs": []
    },
    {
      "cell_type": "code",
      "source": [
        "datelist"
      ],
      "metadata": {
        "colab": {
          "base_uri": "https://localhost:8080/"
        },
        "id": "tf5oY-JQGPi5",
        "outputId": "2649ab65-a383-4788-c9b2-673f1231ef48"
      },
      "execution_count": null,
      "outputs": [
        {
          "output_type": "execute_result",
          "data": {
            "text/plain": [
              "[Timestamp('2022-06-23 15:28:59.282486', freq='D'),\n",
              " Timestamp('2022-06-24 15:28:59.282486', freq='D'),\n",
              " Timestamp('2022-06-25 15:28:59.282486', freq='D'),\n",
              " Timestamp('2022-06-26 15:28:59.282486', freq='D'),\n",
              " Timestamp('2022-06-27 15:28:59.282486', freq='D'),\n",
              " Timestamp('2022-06-28 15:28:59.282486', freq='D'),\n",
              " Timestamp('2022-06-29 15:28:59.282486', freq='D'),\n",
              " Timestamp('2022-06-30 15:28:59.282486', freq='D'),\n",
              " Timestamp('2022-07-01 15:28:59.282486', freq='D'),\n",
              " Timestamp('2022-07-02 15:28:59.282486', freq='D'),\n",
              " Timestamp('2022-07-03 15:28:59.282486', freq='D'),\n",
              " Timestamp('2022-07-04 15:28:59.282486', freq='D'),\n",
              " Timestamp('2022-07-05 15:28:59.282486', freq='D'),\n",
              " Timestamp('2022-07-06 15:28:59.282486', freq='D')]"
            ]
          },
          "metadata": {},
          "execution_count": 96
        }
      ]
    },
    {
      "cell_type": "code",
      "source": [
        "datelist = [datelist[i].date().strftime('%y-%m-%d') for i in range(len(datelist))]"
      ],
      "metadata": {
        "id": "S206yFprGfCt"
      },
      "execution_count": null,
      "outputs": []
    },
    {
      "cell_type": "code",
      "source": [
        "datelist"
      ],
      "metadata": {
        "colab": {
          "base_uri": "https://localhost:8080/"
        },
        "id": "UONmJr4oLVkR",
        "outputId": "1b5c543d-6867-45a8-b483-26e37cb3aaad"
      },
      "execution_count": null,
      "outputs": [
        {
          "output_type": "execute_result",
          "data": {
            "text/plain": [
              "['22-06-23',\n",
              " '22-06-24',\n",
              " '22-06-25',\n",
              " '22-06-26',\n",
              " '22-06-27',\n",
              " '22-06-28',\n",
              " '22-06-29',\n",
              " '22-06-30',\n",
              " '22-07-01',\n",
              " '22-07-02',\n",
              " '22-07-03',\n",
              " '22-07-04',\n",
              " '22-07-05',\n",
              " '22-07-06']"
            ]
          },
          "metadata": {},
          "execution_count": 98
        }
      ]
    },
    {
      "cell_type": "code",
      "source": [
        "zipped = zip(datelist, daily_high_values, daily_low_values, daily_summary_list)"
      ],
      "metadata": {
        "id": "JgSSOlLeLY6E"
      },
      "execution_count": null,
      "outputs": []
    },
    {
      "cell_type": "code",
      "source": [
        "df = pd.DataFrame(list(zipped), columns= ['Date', 'High', 'Low', \"Summary\"])"
      ],
      "metadata": {
        "id": "o1zjGWX-MFxf"
      },
      "execution_count": null,
      "outputs": []
    },
    {
      "cell_type": "code",
      "source": [
        "df"
      ],
      "metadata": {
        "colab": {
          "base_uri": "https://localhost:8080/",
          "height": 488
        },
        "id": "NbmkLOarMG9I",
        "outputId": "6fa843a0-1231-4aff-99e4-718e6ce2449a"
      },
      "execution_count": null,
      "outputs": [
        {
          "output_type": "execute_result",
          "data": {
            "text/plain": [
              "        Date High  Low                               Summary\n",
              "0   22-06-23  30°  18°             Sunny and a gentle breeze\n",
              "1   22-06-24  33°  20°           Sunny and a moderate breeze\n",
              "2   22-06-25  28°  18°            Light rain and light winds\n",
              "3   22-06-26  32°  20°             Sunny and a gentle breeze\n",
              "4   22-06-27  35°  21°             Sunny and a gentle breeze\n",
              "5   22-06-28  29°  18°  Thundery showers and a gentle breeze\n",
              "6   22-06-29  27°  17°  Thundery showers and a gentle breeze\n",
              "7   22-06-30  29°  19°   Sunny intervals and a gentle breeze\n",
              "8   22-07-01  29°  19°        Light rain and a gentle breeze\n",
              "9   22-07-02  27°  18°   Sunny intervals and a gentle breeze\n",
              "10  22-07-03  27°  17°   Sunny intervals and a gentle breeze\n",
              "11  22-07-04  27°  16°   Sunny intervals and a gentle breeze\n",
              "12  22-07-05  25°  15°   Sunny intervals and a gentle breeze\n",
              "13  22-07-06  25°  16°   Sunny intervals and a gentle breeze"
            ],
            "text/html": [
              "\n",
              "  <div id=\"df-7cb9f564-bcf8-4774-ad24-c560bdaa6717\">\n",
              "    <div class=\"colab-df-container\">\n",
              "      <div>\n",
              "<style scoped>\n",
              "    .dataframe tbody tr th:only-of-type {\n",
              "        vertical-align: middle;\n",
              "    }\n",
              "\n",
              "    .dataframe tbody tr th {\n",
              "        vertical-align: top;\n",
              "    }\n",
              "\n",
              "    .dataframe thead th {\n",
              "        text-align: right;\n",
              "    }\n",
              "</style>\n",
              "<table border=\"1\" class=\"dataframe\">\n",
              "  <thead>\n",
              "    <tr style=\"text-align: right;\">\n",
              "      <th></th>\n",
              "      <th>Date</th>\n",
              "      <th>High</th>\n",
              "      <th>Low</th>\n",
              "      <th>Summary</th>\n",
              "    </tr>\n",
              "  </thead>\n",
              "  <tbody>\n",
              "    <tr>\n",
              "      <th>0</th>\n",
              "      <td>22-06-23</td>\n",
              "      <td>30°</td>\n",
              "      <td>18°</td>\n",
              "      <td>Sunny and a gentle breeze</td>\n",
              "    </tr>\n",
              "    <tr>\n",
              "      <th>1</th>\n",
              "      <td>22-06-24</td>\n",
              "      <td>33°</td>\n",
              "      <td>20°</td>\n",
              "      <td>Sunny and a moderate breeze</td>\n",
              "    </tr>\n",
              "    <tr>\n",
              "      <th>2</th>\n",
              "      <td>22-06-25</td>\n",
              "      <td>28°</td>\n",
              "      <td>18°</td>\n",
              "      <td>Light rain and light winds</td>\n",
              "    </tr>\n",
              "    <tr>\n",
              "      <th>3</th>\n",
              "      <td>22-06-26</td>\n",
              "      <td>32°</td>\n",
              "      <td>20°</td>\n",
              "      <td>Sunny and a gentle breeze</td>\n",
              "    </tr>\n",
              "    <tr>\n",
              "      <th>4</th>\n",
              "      <td>22-06-27</td>\n",
              "      <td>35°</td>\n",
              "      <td>21°</td>\n",
              "      <td>Sunny and a gentle breeze</td>\n",
              "    </tr>\n",
              "    <tr>\n",
              "      <th>5</th>\n",
              "      <td>22-06-28</td>\n",
              "      <td>29°</td>\n",
              "      <td>18°</td>\n",
              "      <td>Thundery showers and a gentle breeze</td>\n",
              "    </tr>\n",
              "    <tr>\n",
              "      <th>6</th>\n",
              "      <td>22-06-29</td>\n",
              "      <td>27°</td>\n",
              "      <td>17°</td>\n",
              "      <td>Thundery showers and a gentle breeze</td>\n",
              "    </tr>\n",
              "    <tr>\n",
              "      <th>7</th>\n",
              "      <td>22-06-30</td>\n",
              "      <td>29°</td>\n",
              "      <td>19°</td>\n",
              "      <td>Sunny intervals and a gentle breeze</td>\n",
              "    </tr>\n",
              "    <tr>\n",
              "      <th>8</th>\n",
              "      <td>22-07-01</td>\n",
              "      <td>29°</td>\n",
              "      <td>19°</td>\n",
              "      <td>Light rain and a gentle breeze</td>\n",
              "    </tr>\n",
              "    <tr>\n",
              "      <th>9</th>\n",
              "      <td>22-07-02</td>\n",
              "      <td>27°</td>\n",
              "      <td>18°</td>\n",
              "      <td>Sunny intervals and a gentle breeze</td>\n",
              "    </tr>\n",
              "    <tr>\n",
              "      <th>10</th>\n",
              "      <td>22-07-03</td>\n",
              "      <td>27°</td>\n",
              "      <td>17°</td>\n",
              "      <td>Sunny intervals and a gentle breeze</td>\n",
              "    </tr>\n",
              "    <tr>\n",
              "      <th>11</th>\n",
              "      <td>22-07-04</td>\n",
              "      <td>27°</td>\n",
              "      <td>16°</td>\n",
              "      <td>Sunny intervals and a gentle breeze</td>\n",
              "    </tr>\n",
              "    <tr>\n",
              "      <th>12</th>\n",
              "      <td>22-07-05</td>\n",
              "      <td>25°</td>\n",
              "      <td>15°</td>\n",
              "      <td>Sunny intervals and a gentle breeze</td>\n",
              "    </tr>\n",
              "    <tr>\n",
              "      <th>13</th>\n",
              "      <td>22-07-06</td>\n",
              "      <td>25°</td>\n",
              "      <td>16°</td>\n",
              "      <td>Sunny intervals and a gentle breeze</td>\n",
              "    </tr>\n",
              "  </tbody>\n",
              "</table>\n",
              "</div>\n",
              "      <button class=\"colab-df-convert\" onclick=\"convertToInteractive('df-7cb9f564-bcf8-4774-ad24-c560bdaa6717')\"\n",
              "              title=\"Convert this dataframe to an interactive table.\"\n",
              "              style=\"display:none;\">\n",
              "        \n",
              "  <svg xmlns=\"http://www.w3.org/2000/svg\" height=\"24px\"viewBox=\"0 0 24 24\"\n",
              "       width=\"24px\">\n",
              "    <path d=\"M0 0h24v24H0V0z\" fill=\"none\"/>\n",
              "    <path d=\"M18.56 5.44l.94 2.06.94-2.06 2.06-.94-2.06-.94-.94-2.06-.94 2.06-2.06.94zm-11 1L8.5 8.5l.94-2.06 2.06-.94-2.06-.94L8.5 2.5l-.94 2.06-2.06.94zm10 10l.94 2.06.94-2.06 2.06-.94-2.06-.94-.94-2.06-.94 2.06-2.06.94z\"/><path d=\"M17.41 7.96l-1.37-1.37c-.4-.4-.92-.59-1.43-.59-.52 0-1.04.2-1.43.59L10.3 9.45l-7.72 7.72c-.78.78-.78 2.05 0 2.83L4 21.41c.39.39.9.59 1.41.59.51 0 1.02-.2 1.41-.59l7.78-7.78 2.81-2.81c.8-.78.8-2.07 0-2.86zM5.41 20L4 18.59l7.72-7.72 1.47 1.35L5.41 20z\"/>\n",
              "  </svg>\n",
              "      </button>\n",
              "      \n",
              "  <style>\n",
              "    .colab-df-container {\n",
              "      display:flex;\n",
              "      flex-wrap:wrap;\n",
              "      gap: 12px;\n",
              "    }\n",
              "\n",
              "    .colab-df-convert {\n",
              "      background-color: #E8F0FE;\n",
              "      border: none;\n",
              "      border-radius: 50%;\n",
              "      cursor: pointer;\n",
              "      display: none;\n",
              "      fill: #1967D2;\n",
              "      height: 32px;\n",
              "      padding: 0 0 0 0;\n",
              "      width: 32px;\n",
              "    }\n",
              "\n",
              "    .colab-df-convert:hover {\n",
              "      background-color: #E2EBFA;\n",
              "      box-shadow: 0px 1px 2px rgba(60, 64, 67, 0.3), 0px 1px 3px 1px rgba(60, 64, 67, 0.15);\n",
              "      fill: #174EA6;\n",
              "    }\n",
              "\n",
              "    [theme=dark] .colab-df-convert {\n",
              "      background-color: #3B4455;\n",
              "      fill: #D2E3FC;\n",
              "    }\n",
              "\n",
              "    [theme=dark] .colab-df-convert:hover {\n",
              "      background-color: #434B5C;\n",
              "      box-shadow: 0px 1px 3px 1px rgba(0, 0, 0, 0.15);\n",
              "      filter: drop-shadow(0px 1px 2px rgba(0, 0, 0, 0.3));\n",
              "      fill: #FFFFFF;\n",
              "    }\n",
              "  </style>\n",
              "\n",
              "      <script>\n",
              "        const buttonEl =\n",
              "          document.querySelector('#df-7cb9f564-bcf8-4774-ad24-c560bdaa6717 button.colab-df-convert');\n",
              "        buttonEl.style.display =\n",
              "          google.colab.kernel.accessAllowed ? 'block' : 'none';\n",
              "\n",
              "        async function convertToInteractive(key) {\n",
              "          const element = document.querySelector('#df-7cb9f564-bcf8-4774-ad24-c560bdaa6717');\n",
              "          const dataTable =\n",
              "            await google.colab.kernel.invokeFunction('convertToInteractive',\n",
              "                                                     [key], {});\n",
              "          if (!dataTable) return;\n",
              "\n",
              "          const docLinkHtml = 'Like what you see? Visit the ' +\n",
              "            '<a target=\"_blank\" href=https://colab.research.google.com/notebooks/data_table.ipynb>data table notebook</a>'\n",
              "            + ' to learn more about interactive tables.';\n",
              "          element.innerHTML = '';\n",
              "          dataTable['output_type'] = 'display_data';\n",
              "          await google.colab.output.renderOutput(dataTable, element);\n",
              "          const docLink = document.createElement('div');\n",
              "          docLink.innerHTML = docLinkHtml;\n",
              "          element.appendChild(docLink);\n",
              "        }\n",
              "      </script>\n",
              "    </div>\n",
              "  </div>\n",
              "  "
            ]
          },
          "metadata": {},
          "execution_count": 102
        }
      ]
    },
    {
      "cell_type": "code",
      "source": [
        "location = soup.find('h1', {'id': 'wr-location-name-id'}).text.split()[0]\n",
        "location"
      ],
      "metadata": {
        "colab": {
          "base_uri": "https://localhost:8080/",
          "height": 36
        },
        "id": "rTMYuDnKMYYZ",
        "outputId": "5d027d1c-b0a2-4c15-d212-80795143b100"
      },
      "execution_count": null,
      "outputs": [
        {
          "output_type": "execute_result",
          "data": {
            "text/plain": [
              "'Berlin'"
            ],
            "application/vnd.google.colaboratory.intrinsic+json": {
              "type": "string"
            }
          },
          "metadata": {},
          "execution_count": 108
        }
      ]
    },
    {
      "cell_type": "code",
      "source": [
        "filename_csv = location + '.csv'\n",
        "df.to_csv(filename_csv, index = None)"
      ],
      "metadata": {
        "id": "mcQsZdzeNlee"
      },
      "execution_count": null,
      "outputs": []
    },
    {
      "cell_type": "code",
      "source": [
        ""
      ],
      "metadata": {
        "id": "P1U_5JajOd19"
      },
      "execution_count": null,
      "outputs": []
    }
  ],
  "metadata": {
    "colab": {
      "name": "BBC Weather Scrapping [TDS].ipynb",
      "provenance": [],
      "authorship_tag": "ABX9TyO+/B2GOXkCr1lTLyGkZbt9",
      "include_colab_link": true
    },
    "kernelspec": {
      "display_name": "Python 3",
      "name": "python3"
    },
    "language_info": {
      "name": "python"
    }
  },
  "nbformat": 4,
  "nbformat_minor": 0
}